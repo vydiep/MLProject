{
 "cells": [
  {
   "attachments": {},
   "cell_type": "markdown",
   "metadata": {},
   "source": [
    "# Composer Classification"
   ]
  },
  {
   "attachments": {},
   "cell_type": "markdown",
   "metadata": {},
   "source": [
    "## Abstract (Vy)\n",
    "\n",
    "In this project, we will work to identify a composer of classical music. More specifically, we will identify whether a piece of classical music is Beethoven or not. In order to accomplish this, we will be using a data set with audio files of songs from different composers and metadata about those songs. Through strategic feature selection and potentially deep learning, we hope to yield successful results, in that our model is able to correctly classify whether a piece of music is Beethoven's at least 80-85% of the time given that there's a labeling error rate of 4% in our data set. (edit this)\n",
    "\n",
    "GitHub Repository: [MLProject](https://github.com/vydiep/MLProject)"
   ]
  },
  {
   "attachments": {},
   "cell_type": "markdown",
   "metadata": {},
   "source": [
    "## Introduction (Katie)\n",
    "\n",
    "Look at Abstract from README and Motivation and Question \n",
    "\n",
    "Who has tried solving this problem? What did they do? (2 scholarly students, use Quarto)\n",
    "- look at notes \n"
   ]
  },
  {
   "attachments": {},
   "cell_type": "markdown",
   "metadata": {},
   "source": [
    "## Values Statement (Katie)\n",
    "\n",
    "Potential Users: Classical music listeners, educators on music \n",
    "How are other people affected by this: could potentially undermine the work of some people in the music industry \n",
    "\n",
    "Benefits: Combine discussion with the potential users \n",
    "\n",
    "Harmed: Combine with how people are affected by this \n",
    "\n",
    "Personal Reason: Take from proposal \n",
    "\n",
    "Last Question: Look at proposal "
   ]
  },
  {
   "attachments": {},
   "cell_type": "markdown",
   "metadata": {},
   "source": [
    "## Materials and Methods \n"
   ]
  },
  {
   "attachments": {},
   "cell_type": "markdown",
   "metadata": {},
   "source": [
    "### Data (Vy)\n"
   ]
  },
  {
   "attachments": {},
   "cell_type": "markdown",
   "metadata": {},
   "source": [
    "### Approach\n",
    "\n",
    "#### CNN\n",
    "#### RNN "
   ]
  },
  {
   "attachments": {},
   "cell_type": "markdown",
   "metadata": {},
   "source": [
    "## Results \n",
    "\n",
    "### CNN\n",
    "\n",
    "### RNN"
   ]
  },
  {
   "attachments": {},
   "cell_type": "markdown",
   "metadata": {},
   "source": [
    "## Concluding Discussion"
   ]
  },
  {
   "attachments": {},
   "cell_type": "markdown",
   "metadata": {},
   "source": [
    "## Group Contribution Statement"
   ]
  },
  {
   "attachments": {},
   "cell_type": "markdown",
   "metadata": {},
   "source": [
    "## Personal Reflections"
   ]
  }
 ],
 "metadata": {
  "language_info": {
   "name": "python"
  },
  "orig_nbformat": 4
 },
 "nbformat": 4,
 "nbformat_minor": 2
}
