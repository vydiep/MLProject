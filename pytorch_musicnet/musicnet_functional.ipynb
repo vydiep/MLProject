{
  "cells": [
    {
      "cell_type": "code",
      "execution_count": null,
      "metadata": {
        "id": "s2IgXfu_4hHs"
      },
      "outputs": [],
      "source": [
        "import sys,os,signal\n",
        "\n",
        "import numpy as np\n",
        "import musicnet\n",
        "\n",
        "import torch\n",
        "from torch.autograd import Variable\n",
        "from torch.nn.functional import conv1d, mse_loss\n",
        "\n",
        "from time import time\n",
        "\n",
        "import matplotlib.pyplot as plt\n",
        "from IPython.display import Audio\n",
        "\n",
        "from sklearn.metrics import average_precision_score\n",
        "\n",
        "root = './musicnet'\n",
        "\n",
        "%matplotlib inline"
      ]
    },
    {
      "cell_type": "markdown",
      "source": [
        "testing 1 2 3"
      ],
      "metadata": {
        "id": "D4mFGOK-57oo"
      }
    },
    {
      "cell_type": "code",
      "execution_count": null,
      "metadata": {
        "id": "ymu_5y0j4hHt"
      },
      "outputs": [],
      "source": [
        "os.environ['CUDA_DEVICE_ORDER']='PCI_BUS_ID'   # see issue #152\n",
        "os.environ['CUDA_VISIBLE_DEVICES']='2'\n",
        "\n",
        "def worker_init(args):\n",
        "    signal.signal(signal.SIGINT, signal.SIG_IGN) # ignore signals so parent can handle them\n",
        "    np.random.seed(os.getpid() ^ int(time())) # approximately random seed for workers\n",
        "\n",
        "batch_size = 100\n",
        "kwargs = {'num_workers': 4, 'pin_memory': True, 'worker_init_fn': worker_init}\n",
        "\n",
        "m = 128\n",
        "k = 500\n",
        "d = 4096\n",
        "window = 16384\n",
        "stride = 512\n",
        "regions = 1 + (window - d)//stride"
      ]
    },
    {
      "cell_type": "code",
      "execution_count": null,
      "metadata": {
        "id": "EhBPNrge4hHu",
        "outputId": "882c285b-7255-4f3a-d709-4b6af784c0ad"
      },
      "outputs": [
        {
          "name": "stdout",
          "output_type": "stream",
          "text": [
            "Downloading https://github.com/vydiep/MLProject/blob/main/pytorch_musicnet/musicnet.tar.gz\n"
          ]
        },
        {
          "ename": "HTTPError",
          "evalue": "HTTP Error 404: Not Found",
          "output_type": "error",
          "traceback": [
            "\u001b[0;31m---------------------------------------------------------------------------\u001b[0m",
            "\u001b[0;31mHTTPError\u001b[0m                                 Traceback (most recent call last)",
            "Cell \u001b[0;32mIn[3], line 1\u001b[0m\n\u001b[0;32m----> 1\u001b[0m train_set \u001b[39m=\u001b[39m musicnet\u001b[39m.\u001b[39;49mMusicNet(root\u001b[39m=\u001b[39;49mroot, train\u001b[39m=\u001b[39;49m\u001b[39mTrue\u001b[39;49;00m, download\u001b[39m=\u001b[39;49m\u001b[39mTrue\u001b[39;49;00m, window\u001b[39m=\u001b[39;49mwindow)\u001b[39m#, pitch_shift=5, jitter=.1)\u001b[39;00m\n\u001b[1;32m      2\u001b[0m test_set \u001b[39m=\u001b[39m musicnet\u001b[39m.\u001b[39mMusicNet(root\u001b[39m=\u001b[39mroot, train\u001b[39m=\u001b[39m\u001b[39mFalse\u001b[39;00m, window\u001b[39m=\u001b[39mwindow, epoch_size\u001b[39m=\u001b[39m\u001b[39m50000\u001b[39m)\n",
            "File \u001b[0;32m~/Desktop/Machine Learning/MLProject/pytorch_musicnet/musicnet.py:53\u001b[0m, in \u001b[0;36mMusicNet.__init__\u001b[0;34m(self, root, train, download, refresh_cache, mmap, normalize, window, pitch_shift, jitter, epoch_size)\u001b[0m\n\u001b[1;32m     50\u001b[0m \u001b[39mself\u001b[39m\u001b[39m.\u001b[39mroot \u001b[39m=\u001b[39m os\u001b[39m.\u001b[39mpath\u001b[39m.\u001b[39mexpanduser(root)\n\u001b[1;32m     52\u001b[0m \u001b[39mif\u001b[39;00m download:\n\u001b[0;32m---> 53\u001b[0m     \u001b[39mself\u001b[39;49m\u001b[39m.\u001b[39;49mdownload()\n\u001b[1;32m     55\u001b[0m \u001b[39mif\u001b[39;00m \u001b[39mnot\u001b[39;00m \u001b[39mself\u001b[39m\u001b[39m.\u001b[39m_check_exists():\n\u001b[1;32m     57\u001b[0m     \u001b[39mraise\u001b[39;00m \u001b[39mRuntimeError\u001b[39;00m(\u001b[39m'\u001b[39m\u001b[39mDataset not found.\u001b[39m\u001b[39m'\u001b[39m \u001b[39m+\u001b[39m\n\u001b[1;32m     58\u001b[0m                        \u001b[39m'\u001b[39m\u001b[39m You can use download=True to download it\u001b[39m\u001b[39m'\u001b[39m)\n",
            "File \u001b[0;32m~/Desktop/Machine Learning/MLProject/pytorch_musicnet/musicnet.py:179\u001b[0m, in \u001b[0;36mMusicNet.download\u001b[0;34m(self)\u001b[0m\n\u001b[1;32m    177\u001b[0m \u001b[39mif\u001b[39;00m \u001b[39mnot\u001b[39;00m os\u001b[39m.\u001b[39mpath\u001b[39m.\u001b[39mexists(file_path):\n\u001b[1;32m    178\u001b[0m     \u001b[39mprint\u001b[39m(\u001b[39m'\u001b[39m\u001b[39mDownloading \u001b[39m\u001b[39m'\u001b[39m \u001b[39m+\u001b[39m \u001b[39mself\u001b[39m\u001b[39m.\u001b[39murl)\n\u001b[0;32m--> 179\u001b[0m     data \u001b[39m=\u001b[39m urllib\u001b[39m.\u001b[39;49mrequest\u001b[39m.\u001b[39;49murlopen(\u001b[39mself\u001b[39;49m\u001b[39m.\u001b[39;49murl)\n\u001b[1;32m    180\u001b[0m     \u001b[39mwith\u001b[39;00m \u001b[39mopen\u001b[39m(file_path, \u001b[39m'\u001b[39m\u001b[39mwb\u001b[39m\u001b[39m'\u001b[39m) \u001b[39mas\u001b[39;00m f:\n\u001b[1;32m    181\u001b[0m         \u001b[39m# stream the download to disk (it might not fit in memory!)\u001b[39;00m\n\u001b[1;32m    182\u001b[0m         \u001b[39mwhile\u001b[39;00m \u001b[39mTrue\u001b[39;00m:\n",
            "File \u001b[0;32m~/opt/anaconda3/envs/ml-0451/lib/python3.9/urllib/request.py:214\u001b[0m, in \u001b[0;36murlopen\u001b[0;34m(url, data, timeout, cafile, capath, cadefault, context)\u001b[0m\n\u001b[1;32m    212\u001b[0m \u001b[39melse\u001b[39;00m:\n\u001b[1;32m    213\u001b[0m     opener \u001b[39m=\u001b[39m _opener\n\u001b[0;32m--> 214\u001b[0m \u001b[39mreturn\u001b[39;00m opener\u001b[39m.\u001b[39;49mopen(url, data, timeout)\n",
            "File \u001b[0;32m~/opt/anaconda3/envs/ml-0451/lib/python3.9/urllib/request.py:523\u001b[0m, in \u001b[0;36mOpenerDirector.open\u001b[0;34m(self, fullurl, data, timeout)\u001b[0m\n\u001b[1;32m    521\u001b[0m \u001b[39mfor\u001b[39;00m processor \u001b[39min\u001b[39;00m \u001b[39mself\u001b[39m\u001b[39m.\u001b[39mprocess_response\u001b[39m.\u001b[39mget(protocol, []):\n\u001b[1;32m    522\u001b[0m     meth \u001b[39m=\u001b[39m \u001b[39mgetattr\u001b[39m(processor, meth_name)\n\u001b[0;32m--> 523\u001b[0m     response \u001b[39m=\u001b[39m meth(req, response)\n\u001b[1;32m    525\u001b[0m \u001b[39mreturn\u001b[39;00m response\n",
            "File \u001b[0;32m~/opt/anaconda3/envs/ml-0451/lib/python3.9/urllib/request.py:632\u001b[0m, in \u001b[0;36mHTTPErrorProcessor.http_response\u001b[0;34m(self, request, response)\u001b[0m\n\u001b[1;32m    629\u001b[0m \u001b[39m# According to RFC 2616, \"2xx\" code indicates that the client's\u001b[39;00m\n\u001b[1;32m    630\u001b[0m \u001b[39m# request was successfully received, understood, and accepted.\u001b[39;00m\n\u001b[1;32m    631\u001b[0m \u001b[39mif\u001b[39;00m \u001b[39mnot\u001b[39;00m (\u001b[39m200\u001b[39m \u001b[39m<\u001b[39m\u001b[39m=\u001b[39m code \u001b[39m<\u001b[39m \u001b[39m300\u001b[39m):\n\u001b[0;32m--> 632\u001b[0m     response \u001b[39m=\u001b[39m \u001b[39mself\u001b[39;49m\u001b[39m.\u001b[39;49mparent\u001b[39m.\u001b[39;49merror(\n\u001b[1;32m    633\u001b[0m         \u001b[39m'\u001b[39;49m\u001b[39mhttp\u001b[39;49m\u001b[39m'\u001b[39;49m, request, response, code, msg, hdrs)\n\u001b[1;32m    635\u001b[0m \u001b[39mreturn\u001b[39;00m response\n",
            "File \u001b[0;32m~/opt/anaconda3/envs/ml-0451/lib/python3.9/urllib/request.py:561\u001b[0m, in \u001b[0;36mOpenerDirector.error\u001b[0;34m(self, proto, *args)\u001b[0m\n\u001b[1;32m    559\u001b[0m \u001b[39mif\u001b[39;00m http_err:\n\u001b[1;32m    560\u001b[0m     args \u001b[39m=\u001b[39m (\u001b[39mdict\u001b[39m, \u001b[39m'\u001b[39m\u001b[39mdefault\u001b[39m\u001b[39m'\u001b[39m, \u001b[39m'\u001b[39m\u001b[39mhttp_error_default\u001b[39m\u001b[39m'\u001b[39m) \u001b[39m+\u001b[39m orig_args\n\u001b[0;32m--> 561\u001b[0m     \u001b[39mreturn\u001b[39;00m \u001b[39mself\u001b[39;49m\u001b[39m.\u001b[39;49m_call_chain(\u001b[39m*\u001b[39;49margs)\n",
            "File \u001b[0;32m~/opt/anaconda3/envs/ml-0451/lib/python3.9/urllib/request.py:494\u001b[0m, in \u001b[0;36mOpenerDirector._call_chain\u001b[0;34m(self, chain, kind, meth_name, *args)\u001b[0m\n\u001b[1;32m    492\u001b[0m \u001b[39mfor\u001b[39;00m handler \u001b[39min\u001b[39;00m handlers:\n\u001b[1;32m    493\u001b[0m     func \u001b[39m=\u001b[39m \u001b[39mgetattr\u001b[39m(handler, meth_name)\n\u001b[0;32m--> 494\u001b[0m     result \u001b[39m=\u001b[39m func(\u001b[39m*\u001b[39;49margs)\n\u001b[1;32m    495\u001b[0m     \u001b[39mif\u001b[39;00m result \u001b[39mis\u001b[39;00m \u001b[39mnot\u001b[39;00m \u001b[39mNone\u001b[39;00m:\n\u001b[1;32m    496\u001b[0m         \u001b[39mreturn\u001b[39;00m result\n",
            "File \u001b[0;32m~/opt/anaconda3/envs/ml-0451/lib/python3.9/urllib/request.py:641\u001b[0m, in \u001b[0;36mHTTPDefaultErrorHandler.http_error_default\u001b[0;34m(self, req, fp, code, msg, hdrs)\u001b[0m\n\u001b[1;32m    640\u001b[0m \u001b[39mdef\u001b[39;00m \u001b[39mhttp_error_default\u001b[39m(\u001b[39mself\u001b[39m, req, fp, code, msg, hdrs):\n\u001b[0;32m--> 641\u001b[0m     \u001b[39mraise\u001b[39;00m HTTPError(req\u001b[39m.\u001b[39mfull_url, code, msg, hdrs, fp)\n",
            "\u001b[0;31mHTTPError\u001b[0m: HTTP Error 404: Not Found"
          ]
        }
      ],
      "source": [
        "train_set = musicnet.MusicNet(root=root, train=True, download=True, window=window)#, pitch_shift=5, jitter=.1)\n",
        "test_set = musicnet.MusicNet(root=root, train=False, window=window, epoch_size=50000)"
      ]
    },
    {
      "cell_type": "code",
      "execution_count": null,
      "metadata": {
        "id": "cmS-JT6c4hHv"
      },
      "outputs": [],
      "source": [
        "train_loader = torch.utils.data.DataLoader(dataset=train_set,batch_size=batch_size,**kwargs)\n",
        "test_loader = torch.utils.data.DataLoader(dataset=test_set,batch_size=batch_size,**kwargs)"
      ]
    },
    {
      "cell_type": "code",
      "execution_count": null,
      "metadata": {
        "id": "5HGGYGmT4hHv"
      },
      "outputs": [],
      "source": [
        "def create_filters(d,k,low=50,high=6000):\n",
        "    x = np.linspace(0, 2*np.pi, d, endpoint=False)\n",
        "    wsin = np.empty((k,1,d), dtype=np.float32)\n",
        "    wcos = np.empty((k,1,d), dtype=np.float32)\n",
        "    start_freq = low\n",
        "    end_freq = high\n",
        "    num_cycles = start_freq*d/44000.\n",
        "    scaling_ind = np.log(end_freq/start_freq)/k\n",
        "    window_mask = 1.0-1.0*np.cos(x)\n",
        "    for ind in range(k):\n",
        "        wsin[ind,0,:] = window_mask*np.sin(np.exp(ind*scaling_ind)*num_cycles*x)\n",
        "        wcos[ind,0,:] = window_mask*np.cos(np.exp(ind*scaling_ind)*num_cycles*x)\n",
        "    \n",
        "    return wsin,wcos"
      ]
    },
    {
      "cell_type": "code",
      "execution_count": null,
      "metadata": {
        "id": "zYNRHFi84hHv"
      },
      "outputs": [],
      "source": [
        "wsin,wcos = create_filters(d,k)\n",
        "\n",
        "with torch.cuda.device(0):\n",
        "    wsin_var = Variable(torch.from_numpy(wsin).cuda(), requires_grad=False)\n",
        "    wcos_var = Variable(torch.from_numpy(wcos).cuda(), requires_grad=False)\n",
        "    \n",
        "def init_weights(scale=0.):\n",
        "    wscale = 0.\n",
        "    with torch.cuda.device(0):\n",
        "        beta = Variable(wscale*torch.rand([regions*k,m]).cuda(), requires_grad=True)\n",
        "        betaavg = Variable(beta.data.clone(), requires_grad=False)\n",
        "    return (beta,), (betaavg,)\n",
        "\n",
        "def forward(x, beta):\n",
        "    zx = conv1d(x[:,None,:], wsin_var, stride=stride).pow(2) \\\n",
        "       + conv1d(x[:,None,:], wcos_var, stride=stride).pow(2)\n",
        "    return torch.mm(torch.log(zx + musicnet.epsilon).view(x.data.size()[0],regions*k), beta)\n",
        "\n",
        "def L(y_hat, y, beta):\n",
        "    # adjust for per-frame loss\n",
        "    return mse_loss(y_hat, y)*128/2.# + .01*torch.mean(beta.pow(2.))"
      ]
    },
    {
      "cell_type": "markdown",
      "metadata": {
        "id": "ov-__hIS4hHw"
      },
      "source": [
        "# Train the model"
      ]
    },
    {
      "cell_type": "code",
      "execution_count": null,
      "metadata": {
        "id": "0oArjQZr4hHx"
      },
      "outputs": [],
      "source": [
        "weights, averages = init_weights()\n",
        "loss_history = []\n",
        "avgp_history = []"
      ]
    },
    {
      "cell_type": "code",
      "execution_count": null,
      "metadata": {
        "id": "wuNZdCI24hHx",
        "outputId": "f035238d-19cc-4f69-8f11-a5de3f69184f"
      },
      "outputs": [
        {
          "name": "stdout",
          "output_type": "stream",
          "text": [
            "square loss\tavg prec\ttime\t\tutime\n",
            "0.986567\t0.621219\t21.564085\t7.679609\n",
            "0.873448\t0.632721\t20.905450\t7.602950\n",
            "0.801929\t0.642820\t21.002190\t7.718445\n",
            "0.755993\t0.647780\t20.141469\t6.784245\n",
            "0.725851\t0.652447\t15.806879\t5.965170\n",
            "0.708052\t0.652070\t15.693962\t5.983294\n",
            "0.698663\t0.659720\t15.605959\t5.893206\n",
            "0.687680\t0.654076\t15.953896\t6.123796\n",
            "0.685857\t0.655815\t15.847305\t6.049842\n",
            "0.683606\t0.658103\t15.850273\t6.177502\n",
            "0.679673\t0.658590\t16.012017\t6.008902\n",
            "0.682207\t0.661769\t15.844891\t6.028954\n",
            "0.686033\t0.659652\t15.902245\t6.002839\n",
            "0.685517\t0.658726\t15.924718\t6.065756\n",
            "0.679789\t0.662992\t15.813283\t6.038318\n",
            "0.687733\t0.663217\t15.804095\t5.974814\n",
            "0.685760\t0.663800\t15.913707\t6.051164\n",
            "0.683087\t0.663003\t17.786858\t7.902777\n",
            "0.684517\t0.664137\t20.905091\t7.825500\n",
            "0.687459\t0.663850\t21.013634\t7.956584\n",
            "0.685935\t0.665258\t21.023695\t8.066811\n",
            "0.686206\t0.663799\t18.233878\t5.997908\n",
            "0.686560\t0.668035\t17.938216\t7.876208\n",
            "0.687783\t0.665997\t21.035795\t8.010172\n",
            "0.688919\t0.665068\t20.944970\t8.011961\n",
            "0.688473\t0.663751\t19.169249\t6.846789\n",
            "0.684558\t0.667913\t20.889564\t7.491715\n",
            "0.686576\t0.665327\t20.691639\t7.443411\n",
            "0.688430\t0.665855\t15.915480\t6.096598\n",
            "0.689713\t0.662426\t15.753974\t5.971834\n",
            "0.686135\t0.663717\t15.985962\t6.018462\n",
            "0.685688\t0.668733\t15.940950\t6.012090\n",
            "0.688291\t0.665668\t15.881243\t5.973154\n",
            "0.687181\t0.665133\t15.930810\t6.014613\n",
            "0.685962\t0.665318\t16.066470\t6.035126\n",
            "0.689682\t0.668082\t15.911869\t6.056648\n",
            "0.688379\t0.662680\t15.916433\t6.000683\n",
            "0.689393\t0.665744\t16.030921\t6.124420\n",
            "0.688800\t0.664710\t16.339409\t6.106863\n",
            "0.688566\t0.664786\t15.919797\t6.083968\n",
            "0.690136\t0.665801\t15.948112\t6.139325\n",
            "0.688632\t0.665043\t15.871824\t5.949011\n",
            "0.686730\t0.668097\t15.936837\t6.050975\n",
            "0.685997\t0.668514\t15.934883\t6.039051\n",
            "0.687103\t0.665567\t15.980759\t6.137629\n",
            "0.685875\t0.671392\t16.153200\t6.057304\n",
            "0.686094\t0.665166\t15.818717\t5.974025\n",
            "0.687159\t0.666420\t16.057977\t6.144963\n",
            "0.689633\t0.666970\t16.024109\t6.059667\n",
            "0.688577\t0.665371\t21.018915\t8.063808\n",
            "Finished\n"
          ]
        }
      ],
      "source": [
        "avg = .9998\n",
        "optimizer = torch.optim.SGD(weights, lr=0.000001, momentum=.95)\n",
        "\n",
        "try:\n",
        "    with train_set, test_set:\n",
        "        print('square loss\\tavg prec\\ttime\\t\\tutime')\n",
        "        for epoch in range(50):\n",
        "            t = time()\n",
        "            for i, (x, y) in enumerate(train_loader):\n",
        "                optimizer.zero_grad()\n",
        "                x, y = Variable(x.cuda(), requires_grad=False), Variable(y.cuda(), requires_grad=False)\n",
        "                loss = L(forward(x,*weights),y,*weights)\n",
        "                loss.backward()\n",
        "                optimizer.step()\n",
        "\n",
        "                for w,wavg in zip(weights, averages):\n",
        "                    wavg.data.copy_(avg*wavg.data + (1.-avg)*w.data)\n",
        "\n",
        "            t1 = time()\n",
        "            avgp, loss = 0., 0.\n",
        "            yground = torch.FloatTensor(batch_size*len(test_loader), m)\n",
        "            yhat = torch.FloatTensor(batch_size*len(test_loader), m)\n",
        "            for i, (x, y) in enumerate(test_loader):\n",
        "                x, y = Variable(x.cuda(), requires_grad=False), Variable(y.cuda(), requires_grad=False)\n",
        "                yhatvar = forward(x,*averages)\n",
        "                loss += L(yhatvar,y,*averages).item()\n",
        "                yground[i*batch_size:(i+1)*batch_size,:] = y.data\n",
        "                yhat[i*batch_size:(i+1)*batch_size,:] = yhatvar.data\n",
        "            avgp = average_precision_score(yground.numpy().flatten(),yhat.numpy().flatten())\n",
        "            loss_history.append(loss/len(test_loader))\n",
        "            avgp_history.append(avgp)\n",
        "            print('{:2f}\\t{:2f}\\t{:2f}\\t{:2f}'.format(loss_history[-1],avgp_history[-1],time()-t, time()-t1))\n",
        "\n",
        "except KeyboardInterrupt:\n",
        "    print('Graceful Exit')\n",
        "else:\n",
        "    print('Finished')"
      ]
    },
    {
      "cell_type": "code",
      "execution_count": null,
      "metadata": {
        "id": "RXC5Tcbc4hHy",
        "outputId": "66d595a9-9b18-4ecd-a811-6a5cf44cfe24"
      },
      "outputs": [
        {
          "data": {
            "text/plain": [
              "[<matplotlib.lines.Line2D at 0x7f11d51cd910>]"
            ]
          },
          "execution_count": 9,
          "metadata": {},
          "output_type": "execute_result"
        },
        {
          "data": {
            "image/png": "[encoded data removed]",
            "text/plain": [
              "<matplotlib.figure.Figure at 0x7f119d91ee50>"
            ]
          },
          "metadata": {},
          "output_type": "display_data"
        }
      ],
      "source": [
        "burnin = 1\n",
        "\n",
        "fig = plt.figure(figsize=(15, 7))\n",
        "fig.add_axes()\n",
        "\n",
        "ax1 = fig.add_subplot(131)\n",
        "ax2 = fig.add_subplot(132)\n",
        "\n",
        "for ax in [ax1, ax2]:\n",
        "    ax.spines[\"top\"].set_visible(False)\n",
        "    ax.spines[\"right\"].set_visible(False)\n",
        "    ax.spines[\"left\"].set_visible(False)\n",
        "    ax.spines[\"bottom\"].set_visible(False)\n",
        "    ax.grid(color='b', linestyle='--', linewidth=0.5, alpha=0.3)\n",
        "    ax.tick_params(direction='out', color='b', width='2')\n",
        "    \n",
        "ax1.set_title('square loss')\n",
        "ax1.plot(np.arange(len(loss_history[burnin:])), loss_history[burnin:])\n",
        "ax2.set_title('average precision')\n",
        "ax2.plot(np.arange(len(avgp_history[burnin:])), avgp_history[burnin:])"
      ]
    },
    {
      "cell_type": "code",
      "execution_count": null,
      "metadata": {
        "id": "JW_m0KFY4hHz"
      },
      "outputs": [],
      "source": []
    }
  ],
  "metadata": {
    "kernelspec": {
      "display_name": "Python 3",
      "language": "python",
      "name": "python3"
    },
    "language_info": {
      "codemirror_mode": {
        "name": "ipython",
        "version": 3
      },
      "file_extension": ".py",
      "mimetype": "text/x-python",
      "name": "python",
      "nbconvert_exporter": "python",
      "pygments_lexer": "ipython3",
      "version": "3.9.16"
    },
    "colab": {
      "provenance": []
    }
  },
  "nbformat": 4,
  "nbformat_minor": 0
}