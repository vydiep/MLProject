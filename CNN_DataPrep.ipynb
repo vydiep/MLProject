{
  "nbformat": 4,
  "nbformat_minor": 0,
  "metadata": {
    "colab": {
      "provenance": [],
      "gpuType": "T4",
      "mount_file_id": "1Tan7d4BXA0E9Fsr4hyEtlsR4b2Cf498z",
      "authorship_tag": "ABX9TyNyo3kpXIE2BTfCuleEIR/2",
      "include_colab_link": true
    },
    "kernelspec": {
      "name": "python3",
      "display_name": "Python 3"
    },
    "language_info": {
      "name": "python"
    },
    "gpuClass": "standard"
  },
  "cells": [
    {
      "cell_type": "markdown",
      "metadata": {
        "id": "view-in-github",
        "colab_type": "text"
      },
      "source": [
        "<a href=\"https://colab.research.google.com/github/vydiep/MLProject/blob/main/CNN_DataPrep.ipynb\" target=\"_parent\"><img src=\"https://colab.research.google.com/assets/colab-badge.svg\" alt=\"Open In Colab\"/></a>"
      ]
    },
    {
      "cell_type": "code",
      "source": [
        "import os\n",
        "import librosa\n",
        "import numpy as np\n",
        "import json"
      ],
      "metadata": {
        "id": "UJL9IWIIp50Z"
      },
      "execution_count": null,
      "outputs": []
    },
    {
      "cell_type": "code",
      "execution_count": null,
      "metadata": {
        "id": "jfRk9XmXgJ5m"
      },
      "outputs": [],
      "source": [
        "def read_files(directory):\n",
        "  '''\n",
        "  Get .wav files from directory. Assign appropriate labels to each file.\n",
        "\n",
        "  Parameters:\n",
        "    directory: The data path\n",
        "\n",
        "  Returns:\n",
        "    file_paths: A list with tuples of file paths and their corresponding labels\n",
        "\n",
        "  '''\n",
        "    file_paths = []\n",
        "\n",
        "    for root, directories, files in os.walk(directory):\n",
        "        for filename in files:\n",
        "            if filename.endswith(\".wav\"):\n",
        "                path = os.path.join(root, filename)\n",
        "                if filename.startswith(\"Beethoven\"):\n",
        "                  label = 1\n",
        "                else:\n",
        "                  label = 0\n",
        "                file_paths.append((path, label))\n",
        "\n",
        "    return file_paths\n",
        "\n",
        "def segment_audio_files_3s(audio):\n",
        "  '''\n",
        "  Load the audio for first 45 seconds. Segment the 45 seconds into 15 pieces of 3 seconds each.\n",
        "\n",
        "  Parameters:\n",
        "    audio: The path of the audio\n",
        "\n",
        "  Returns:\n",
        "    audio_list: A list of tuples containing the audio segments, their sample rate, and their corresponding label\n",
        "  '''\n",
        "    audio_list = []\n",
        "\n",
        "    for file, label in audio:\n",
        "        audio, sr = librosa.load(file, sr = 44100, duration = 45)\n",
        "    \n",
        "        segment_length = sr * 3\n",
        "\n",
        "        for i in range(15):\n",
        "            start = i * segment_length\n",
        "            end = start + segment_length\n",
        "            segment = audio[start:end]\n",
        "            audio_list.append((segment, sr, label))\n",
        "\n",
        "    return audio_list\n",
        "\n",
        "def segment_audio_files_45s(audio):\n",
        "  '''\n",
        "  Load the audio for the first 45 seconds\n",
        "\n",
        "  Parameters:\n",
        "    audio: The audio path\n",
        "\n",
        "  Returns:\n",
        "    audio_list: A list of tuples containing the audio segment, their sample rate, and their corresponding label\n",
        "  '''\n",
        "\n",
        "    audio_list = []\n",
        "\n",
        "    for file, label in audio:\n",
        "        audio, sr = librosa.load(file, sr = 44100, duration = 45)\n",
        "        audio_list.append((audio, sr, label))\n",
        "\n",
        "    return audio_list\n",
        "\n",
        "def generate_mel_spect(audio_files, json_name):\n",
        "  '''\n",
        "  Created a JSON file that contained spectrograms and labels\n",
        "\n",
        "  Parameters:\n",
        "    audio_files: The path of the audio files\n",
        "    json_name: The name for the JSON file\n",
        "\n",
        "  Returns:\n",
        "    spectrograms: A list of the mel spectrograms generated using audio and sample rate\n",
        "    labels: A list of labels\n",
        "\n",
        "\n",
        "  '''\n",
        "    spectrograms = []\n",
        "    labels = []\n",
        "\n",
        "    for audio, sr, label in audio_files:\n",
        "        mel_spect = librosa.feature.melspectrogram(y = audio, sr = sr)\n",
        "        mel_spect_db = librosa.power_to_db(mel_spect, ref = np.max)\n",
        "\n",
        "        spectrograms.append(mel_spect.tolist())\n",
        "        labels.append(label)\n",
        "\n",
        "    data = {\"spectrograms\": spectrograms,\n",
        "            \"labels\": labels}\n",
        "\n",
        "    with open(json_name, \"w\") as f:\n",
        "        json.dump(data, f)\n",
        "        \n",
        "    return spectrograms, labels"
      ]
    }
  ]
}