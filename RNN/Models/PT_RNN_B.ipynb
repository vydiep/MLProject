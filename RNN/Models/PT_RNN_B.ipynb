{
  "nbformat": 4,
  "nbformat_minor": 0,
  "metadata": {
    "colab": {
      "provenance": [],
      "mount_file_id": "1xeuCCiKskkYmFslchCV32OCiHMN0HISk",
      "authorship_tag": "ABX9TyNNdojA/Ri0u65z/4BJy6Iv",
      "include_colab_link": true
    },
    "kernelspec": {
      "name": "python3",
      "display_name": "Python 3"
    },
    "language_info": {
      "name": "python"
    }
  },
  "cells": [
    {
      "cell_type": "markdown",
      "metadata": {
        "id": "view-in-github",
        "colab_type": "text"
      },
      "source": [
        "<a href=\"https://colab.research.google.com/github/vydiep/MLProject/blob/main/PT_RNN_B.ipynb\" target=\"_parent\"><img src=\"https://colab.research.google.com/assets/colab-badge.svg\" alt=\"Open In Colab\"/></a>"
      ]
    },
    {
      "cell_type": "code",
      "source": [
        "from google.colab import drive \n",
        "drive.mount('/content/drive')"
      ],
      "metadata": {
        "colab": {
          "base_uri": "https://localhost:8080/"
        },
        "id": "2jqqjo_bD2f1",
        "outputId": "9ec554b3-deec-4efb-f6c9-61f13c263c49"
      },
      "execution_count": 1,
      "outputs": [
        {
          "output_type": "stream",
          "name": "stdout",
          "text": [
            "Mounted at /content/drive\n"
          ]
        }
      ]
    },
    {
      "cell_type": "code",
      "execution_count": 2,
      "metadata": {
        "id": "pTHasasaDkQg"
      },
      "outputs": [],
      "source": [
        "import json\n",
        "import numpy as np\n",
        "from sklearn.model_selection import train_test_split\n",
        "import matplotlib.pyplot as plt\n",
        "import time\n",
        "import torch\n",
        "import torch.nn as nn\n",
        "import torch.nn.functional as F\n",
        "from torch.utils.data import DataLoader, TensorDataset\n",
        "from torch.nn.functional import relu\n",
        "import torch.optim as optim\n",
        "from torchsummary import summary"
      ]
    },
    {
      "cell_type": "code",
      "source": [
        "device = torch.device('cuda:0' if torch.cuda.is_available() else 'cpu')"
      ],
      "metadata": {
        "id": "FNUkVkUoY9TX"
      },
      "execution_count": 3,
      "outputs": []
    },
    {
      "cell_type": "code",
      "source": [
        "DATA_PATH = \"/content/drive/Shareddrives/MLProject/MusicNet/rnn-data.json\"\n",
        "MODEL_PATH = \"/content/drive/Shareddrives/MLProject/MusicNet/models/pt-rnn-b.pth\"\n",
        "GRAPH_PATH = \"/content/drive/Shareddrives/MLProject/MusicNet/models/pt-rnn-b-graph.png\""
      ],
      "metadata": {
        "id": "1eeoF9zaqjrv"
      },
      "execution_count": 4,
      "outputs": []
    },
    {
      "cell_type": "markdown",
      "source": [
        "## Functions/Classes"
      ],
      "metadata": {
        "id": "OIY50lr4zna7"
      }
    },
    {
      "cell_type": "code",
      "source": [
        "\"\"\"\n",
        "Guidance from Resource: \n",
        "    https://github.com/musikalkemist/DeepLearningForAudioWithPython/blob/master/19-%20How%20to%20implement%20an%20RNN-LSTM%20for%20music%20genre%20classification/code/19-%20How%20to%20implement%20an%20RNN-LSTM%20for%20music%20genre%20classification.py\n",
        "\"\"\"\n",
        "\n",
        "def load_data(data_path):\n",
        "    \"\"\"\n",
        "    Load data from JSON file \n",
        "\n",
        "    :param  data_path(string)\n",
        "        Path to JSON file \n",
        "\n",
        "    :return X (ndarray)      \n",
        "        Features from data\n",
        "    :return y (ndarray)      \n",
        "        Label for data\n",
        "    \"\"\"\n",
        "\n",
        "    with open(data_path, \"r\") as fp:\n",
        "        data = json.load(fp)\n",
        "\n",
        "    X = np.array(data[\"mfcc\"])\n",
        "    y = np.array(data[\"labels\"])\n",
        "    \n",
        "    return X, y\n",
        "\n",
        "\n",
        "def prepare_datasets(test_size, validation_size):\n",
        "    \"\"\"\n",
        "    Loads data and splits it into train, validation and test sets.\n",
        "\n",
        "    :param test_size (float)\n",
        "        Value in [0, 1] for percentage of data set to allocate to test split\n",
        "    :param validation_size (float)\n",
        "        Value in [0, 1] for percentage of train set to allocate to validation split\n",
        "\n",
        "    :return X_train (ndarray)\n",
        "        Input training set\n",
        "    :return X_validation (ndarray)\n",
        "        Input validation set\n",
        "    :return X_test (ndarray)\n",
        "        Input test set\n",
        "    :return y_train (ndarray)\n",
        "        Target training set\n",
        "    :return y_validation (ndarray)\n",
        "        Target validation set\n",
        "    :return y_test (ndarray)\n",
        "        Target test set\n",
        "    \"\"\"\n",
        "    # load data\n",
        "    X, y = load_data(DATA_PATH)\n",
        "\n",
        "    # create train, validation and test split\n",
        "    X_train, X_test, y_train, y_test = train_test_split(X, y, test_size=test_size)\n",
        "    X_train, X_validation, y_train, y_validation = train_test_split(X_train, y_train, test_size=validation_size)\n",
        "\n",
        "    return X_train, X_validation, X_test, y_train, y_validation, y_test"
      ],
      "metadata": {
        "id": "Wy719BXPPl4I"
      },
      "execution_count": 5,
      "outputs": []
    },
    {
      "cell_type": "code",
      "source": [
        "\"\"\"\n",
        "Gudiance from Resources: \n",
        "    https://www.deeplearningwizard.com/deep_learning/practical_pytorch/pytorch_lstm_neuralnetwork/\n",
        "    https://middlebury-csci-0451.github.io/CSCI-0451/lecture-notes/text-generation.html \n",
        "\"\"\"\n",
        "\n",
        "class LSTMModel(nn.Module):\n",
        "    def __init__(self, input_dim, hidden_dim=64, layer_dim=1, output_dim=1):\n",
        "        \"\"\"\n",
        "        Create LSTM Model with hidden LSTM layers for binary classification \n",
        "        \"\"\"\n",
        "        super(LSTMModel, self).__init__()\n",
        "        \n",
        "        self.hidden_dim = hidden_dim\n",
        "        self.layer_dim = layer_dim\n",
        "        self.training_info = {'train_losses': [], \n",
        "                              'train_accuracies': [],\n",
        "                              'val_losses': [], \n",
        "                              'val_accuracies': []}\n",
        "\n",
        "        # 1 LSTM Layer\n",
        "        self.lstm = nn.LSTM(input_dim, hidden_dim, layer_dim, batch_first=True)\n",
        "\n",
        "        # Dropout layer\n",
        "        self.dropout = nn.Dropout(0.2)\n",
        "\n",
        "        # Readout layer\n",
        "        self.fc = nn.Linear(hidden_dim, output_dim)\n",
        "\n",
        "    def forward(self, x):\n",
        "        out, (hn, cn) = self.lstm(x)\n",
        "\n",
        "        out = self.dropout(out)\n",
        "\n",
        "        # Index hidden state of last time step\n",
        "        out = out[:,-1,:]\n",
        "        out = self.fc(relu(out))\n",
        "\n",
        "        return out"
      ],
      "metadata": {
        "id": "RR-mJblhPnud"
      },
      "execution_count": 6,
      "outputs": []
    },
    {
      "cell_type": "code",
      "source": [
        "def train(model, train_loader, val_loader, k_epochs=1):\n",
        "\n",
        "    begin = time.time()\n",
        "\n",
        "    loss_fn = nn.BCEWithLogitsLoss()\n",
        "    optimizer = optim.Adam(model.parameters(), lr=0.001)\n",
        "\n",
        "    # Printing purposes\n",
        "    last_epoch = len(model.training_info['train_losses'])\n",
        "\n",
        "    for epoch in range(k_epochs):\n",
        "\n",
        "        # Training\n",
        "        model.train() #Set model to training mode\n",
        "        train_loss = 0\n",
        "        correct = 0\n",
        "        total = 0\n",
        "\n",
        "        for i, data in enumerate(train_loader, 0):\n",
        "            X, y = data\n",
        "            X = X.to(device)\n",
        "            y = y.to(device)\n",
        "\n",
        "            optimizer.zero_grad()\n",
        "            \n",
        "            output = model(X)\n",
        "\n",
        "            # Training Loss\n",
        "            loss = loss_fn(output.squeeze(), y)\n",
        "            loss.backward()\n",
        "            optimizer.step()\n",
        "            train_loss += loss.item()\n",
        "            \n",
        "            # Training Accuracy \n",
        "            predicted = (output.sigmoid() >= 0.5).float()\n",
        "            predicted = predicted.view(-1)\n",
        "\n",
        "            total += y.size(0)\n",
        "            correct += (predicted == y.float()).sum().item()\n",
        "\n",
        "        train_loss /= len(train_loader)\n",
        "        train_accuracy = 100. * (correct / total)\n",
        "\n",
        "        # Add training loss and accuracy to model's history \n",
        "        model.training_info['train_losses'].append(train_loss)\n",
        "        model.training_info['train_accuracies'].append(train_accuracy)\n",
        "\n",
        "\n",
        "        # Validation\n",
        "        model.eval() # Set model to evaluation mode\n",
        "        val_loss = 0\n",
        "        correct = 0\n",
        "        total = 0\n",
        "\n",
        "        # Do no store computational graph since we are simulating testing \n",
        "        with torch.no_grad():\n",
        "            for i, data in enumerate(val_loader, 0):\n",
        "                X, y = data\n",
        "                X = X.to(device)\n",
        "                y = y.to(device)\n",
        "\n",
        "                output = model(X)\n",
        "\n",
        "                # Validation Loss\n",
        "                loss = loss_fn(output.squeeze(), y)\n",
        "                val_loss += loss.item()\n",
        "\n",
        "                # Validation Accuracy \n",
        "                predicted = (output.sigmoid() >= 0.5).float()\n",
        "                predicted = predicted.view(-1)\n",
        "\n",
        "                total += y.size(0)\n",
        "                correct += (predicted == y.float()).sum().item()\n",
        "\n",
        "            val_loss /= len(val_loader)\n",
        "            val_accuracy = 100. * (correct / total)\n",
        "\n",
        "            # Add validation loss and accuracy to model's history \n",
        "            model.training_info['val_losses'].append(val_loss)\n",
        "            model.training_info['val_accuracies'].append(val_accuracy)\n",
        "\n",
        "        print(f'Epoch {last_epoch+epoch+1}:') \n",
        "        print(f'\\tTrain Loss={train_loss:.4f} Train Accuracy={train_accuracy:.2f}%')\n",
        "        print(f'\\tVal Loss  ={val_loss:.4f} Val Accuracy  ={val_accuracy:.2f}%')\n",
        "\n",
        "    end = time.time()\n",
        "    print(f'Finished training in {round(end - begin)}s')"
      ],
      "metadata": {
        "id": "vVJW1US6tLOy"
      },
      "execution_count": 7,
      "outputs": []
    },
    {
      "cell_type": "code",
      "source": [
        "def test(model, test_loader):\n",
        "    correct = 0\n",
        "    total = 0\n",
        "    \n",
        "    # Do no store computational graph since we are testing \n",
        "    with torch.no_grad():\n",
        "        for data in test_loader:\n",
        "            X, y = data\n",
        "            X = X.to(device)\n",
        "            y = y.to(device)\n",
        "            \n",
        "            y_hat = model(X)\n",
        "\n",
        "            predicted = (y_hat.sigmoid() >= 0.5).float()\n",
        "            predicted = predicted.view(-1)\n",
        "\n",
        "            # compute the accuracy\n",
        "            total += y.size(0)\n",
        "            correct += (predicted == y).sum().item()\n",
        "\n",
        "    print(f'Test accuracy: {100 * correct // total} %')"
      ],
      "metadata": {
        "id": "rhMODs67eq2Y"
      },
      "execution_count": 8,
      "outputs": []
    },
    {
      "cell_type": "code",
      "source": [
        "def plot_history(model):\n",
        "    \"\"\"\n",
        "    Plot the models history of training/validation accuracies \n",
        "    and training/validation losses on separate graphs based on what is stored \n",
        "    in its training info\n",
        "    \"\"\"\n",
        "    fig, axs = plt.subplots(2)\n",
        "    # create accuracy sublpot\n",
        "    axs[0].plot(model.training_info[\"train_accuracies\"], label=\"train accuracy\")\n",
        "    axs[0].plot(model.training_info[\"val_accuracies\"], label=\"val accuracy\")\n",
        "    axs[0].set_ylabel(\"Accuracy\")\n",
        "    axs[0].set_xlabel(\"Epoch\")\n",
        "    axs[0].legend(loc=\"lower right\")\n",
        "    axs[0].set_title(\"Accuracy eval\")\n",
        "\n",
        "    # create error sublpot\n",
        "    axs[1].plot(model.training_info[\"train_losses\"], label=\"train error\")\n",
        "    axs[1].plot(model.training_info[\"val_losses\"], label=\"val error\")\n",
        "    axs[1].set_ylabel(\"Error\")\n",
        "    axs[1].set_xlabel(\"Epoch\")\n",
        "    axs[1].legend(loc=\"upper right\")\n",
        "    axs[1].set_title(\"Error eval\")\n",
        "\n",
        "    fig.tight_layout()\n",
        "\n",
        "    plt.savefig(GRAPH_PATH)\n",
        "    plt.show()\n",
        "    "
      ],
      "metadata": {
        "id": "OmE0L9UeqNUB"
      },
      "execution_count": 9,
      "outputs": []
    },
    {
      "cell_type": "markdown",
      "source": [
        "## Data Loading/Prep, Training, and Results"
      ],
      "metadata": {
        "id": "6FlE8DSUzqrr"
      }
    },
    {
      "cell_type": "code",
      "source": [
        "batch_size = 32\n",
        "\n",
        "# get train, validation, test splits\n",
        "X_train, X_validation, X_test, y_train, y_validation, y_test = prepare_datasets(0.2, 0.2)\n",
        "\n",
        "train_features = torch.Tensor(X_train)\n",
        "train_targets = torch.Tensor(y_train)\n",
        "val_features = torch.Tensor(X_validation)\n",
        "val_targets = torch.Tensor(y_validation)\n",
        "test_features = torch.Tensor(X_test)\n",
        "test_targets = torch.Tensor(y_test)\n",
        "\n",
        "train_dataset = TensorDataset(train_features, train_targets)\n",
        "val_dataset = TensorDataset(val_features, val_targets)\n",
        "test_dataset = TensorDataset(test_features, test_targets)\n",
        "\n",
        "train_loader = DataLoader(train_dataset, batch_size=batch_size, shuffle=False, drop_last=True)\n",
        "val_loader = DataLoader(val_dataset, batch_size=batch_size, shuffle=False, drop_last=True)\n",
        "test_loader = DataLoader(test_dataset, batch_size=batch_size, shuffle=False, drop_last=True)"
      ],
      "metadata": {
        "id": "oJo3S-FtYatI"
      },
      "execution_count": 10,
      "outputs": []
    },
    {
      "cell_type": "code",
      "source": [
        "model = LSTMModel(input_dim=13)\n",
        "# checkpoint = torch.load(MODEL_PATH)\n",
        "# model.load_state_dict(checkpoint['model_state_dict'])\n",
        "# model.training_info['train_losses'] = checkpoint['train_losses']\n",
        "# model.training_info['train_accuracies'] = checkpoint['train_accuracies']\n",
        "# model.training_info['val_losses'] = checkpoint['val_losses']\n",
        "# model.training_info['val_accuracies'] = checkpoint['val_accuracies']\n",
        "# model.eval()\n",
        "# model.training_info"
      ],
      "metadata": {
        "id": "gx69wmRcWhv3"
      },
      "execution_count": 11,
      "outputs": []
    },
    {
      "cell_type": "code",
      "source": [
        "train(model, train_loader, val_loader, k_epochs = 25)"
      ],
      "metadata": {
        "id": "YaKYhEmCqUnb",
        "colab": {
          "base_uri": "https://localhost:8080/"
        },
        "outputId": "17a31fe2-1668-482a-c6a5-4a8831adf2a3"
      },
      "execution_count": 37,
      "outputs": [
        {
          "output_type": "stream",
          "name": "stdout",
          "text": [
            "Epoch 151:\n",
            "\tTrain Loss=0.2950 Train Accuracy=86.84%\n",
            "\tVal Loss  =0.5666 Val Accuracy  =78.39%\n",
            "Epoch 152:\n",
            "\tTrain Loss=0.3151 Train Accuracy=85.64%\n",
            "\tVal Loss  =0.5631 Val Accuracy  =77.47%\n",
            "Epoch 153:\n",
            "\tTrain Loss=0.2822 Train Accuracy=87.85%\n",
            "\tVal Loss  =0.5622 Val Accuracy  =76.82%\n",
            "Epoch 154:\n",
            "\tTrain Loss=0.2884 Train Accuracy=87.44%\n",
            "\tVal Loss  =0.5485 Val Accuracy  =78.39%\n",
            "Epoch 155:\n",
            "\tTrain Loss=0.2887 Train Accuracy=87.09%\n",
            "\tVal Loss  =0.5560 Val Accuracy  =80.34%\n",
            "Epoch 156:\n",
            "\tTrain Loss=0.2820 Train Accuracy=87.41%\n",
            "\tVal Loss  =0.5962 Val Accuracy  =77.47%\n",
            "Epoch 157:\n",
            "\tTrain Loss=0.2899 Train Accuracy=87.18%\n",
            "\tVal Loss  =0.5298 Val Accuracy  =79.17%\n",
            "Epoch 158:\n",
            "\tTrain Loss=0.2924 Train Accuracy=87.47%\n",
            "\tVal Loss  =0.5394 Val Accuracy  =79.56%\n",
            "Epoch 159:\n",
            "\tTrain Loss=0.3039 Train Accuracy=86.30%\n",
            "\tVal Loss  =0.5532 Val Accuracy  =79.56%\n",
            "Epoch 160:\n",
            "\tTrain Loss=0.2758 Train Accuracy=87.97%\n",
            "\tVal Loss  =0.5688 Val Accuracy  =79.30%\n",
            "Epoch 161:\n",
            "\tTrain Loss=0.2951 Train Accuracy=86.71%\n",
            "\tVal Loss  =0.5683 Val Accuracy  =78.52%\n",
            "Epoch 162:\n",
            "\tTrain Loss=0.2894 Train Accuracy=87.25%\n",
            "\tVal Loss  =0.5926 Val Accuracy  =77.86%\n",
            "Epoch 163:\n",
            "\tTrain Loss=0.2862 Train Accuracy=87.18%\n",
            "\tVal Loss  =0.5777 Val Accuracy  =78.91%\n",
            "Epoch 164:\n",
            "\tTrain Loss=0.3109 Train Accuracy=86.36%\n",
            "\tVal Loss  =0.5388 Val Accuracy  =79.56%\n",
            "Epoch 165:\n",
            "\tTrain Loss=0.3064 Train Accuracy=86.40%\n",
            "\tVal Loss  =0.5692 Val Accuracy  =79.04%\n",
            "Epoch 166:\n",
            "\tTrain Loss=0.2961 Train Accuracy=86.90%\n",
            "\tVal Loss  =0.5491 Val Accuracy  =79.17%\n",
            "Epoch 167:\n",
            "\tTrain Loss=0.3680 Train Accuracy=83.93%\n",
            "\tVal Loss  =0.6243 Val Accuracy  =73.44%\n",
            "Epoch 168:\n",
            "\tTrain Loss=0.3450 Train Accuracy=84.44%\n",
            "\tVal Loss  =0.5685 Val Accuracy  =77.21%\n",
            "Epoch 169:\n",
            "\tTrain Loss=0.3210 Train Accuracy=85.57%\n",
            "\tVal Loss  =0.5630 Val Accuracy  =76.69%\n",
            "Epoch 170:\n",
            "\tTrain Loss=0.3118 Train Accuracy=86.14%\n",
            "\tVal Loss  =0.5639 Val Accuracy  =77.73%\n",
            "Epoch 171:\n",
            "\tTrain Loss=0.3079 Train Accuracy=86.65%\n",
            "\tVal Loss  =0.5533 Val Accuracy  =79.69%\n",
            "Epoch 172:\n",
            "\tTrain Loss=0.2980 Train Accuracy=86.58%\n",
            "\tVal Loss  =0.6027 Val Accuracy  =78.91%\n",
            "Epoch 173:\n",
            "\tTrain Loss=0.3381 Train Accuracy=84.94%\n",
            "\tVal Loss  =0.5483 Val Accuracy  =77.60%\n",
            "Epoch 174:\n",
            "\tTrain Loss=0.3468 Train Accuracy=84.75%\n",
            "\tVal Loss  =0.5575 Val Accuracy  =79.17%\n",
            "Epoch 175:\n",
            "\tTrain Loss=0.3147 Train Accuracy=85.29%\n",
            "\tVal Loss  =0.5492 Val Accuracy  =79.30%\n",
            "Finished training in 360s\n"
          ]
        }
      ]
    },
    {
      "cell_type": "code",
      "source": [
        "test(model, test_loader) "
      ],
      "metadata": {
        "id": "58WCCbdJew6p",
        "colab": {
          "base_uri": "https://localhost:8080/"
        },
        "outputId": "e6c452c8-d8c6-4d0b-ccec-345919c31312"
      },
      "execution_count": 38,
      "outputs": [
        {
          "output_type": "stream",
          "name": "stdout",
          "text": [
            "Test accuracy: 77 %\n"
          ]
        }
      ]
    },
    {
      "cell_type": "code",
      "source": [
        "torch.save({\n",
        "            'model_state_dict': model.state_dict(),\n",
        "            'train_losses': model.training_info['train_losses'],\n",
        "            'train_accuracies': model.training_info['train_accuracies'],\n",
        "            'val_losses': model.training_info['val_losses'],\n",
        "            'val_accuracies': model.training_info['val_accuracies']\n",
        "            }, MODEL_PATH)"
      ],
      "metadata": {
        "id": "irebj7WQb2oE"
      },
      "execution_count": 39,
      "outputs": []
    },
    {
      "cell_type": "code",
      "source": [
        "plot_history(model)"
      ],
      "metadata": {
        "colab": {
          "base_uri": "https://localhost:8080/",
          "height": 486
        },
        "id": "ly4MYSzOpKpr",
        "outputId": "93bf2a95-c99f-41b6-8c9b-640fa696a190"
      },
      "execution_count": 40,
      "outputs": [
        {
          "output_type": "display_data",
          "data": {
            "text/plain": [
              "<Figure size 640x480 with 2 Axes>"
            ],
            "image/png": "[encoded data removed]"
          },
          "metadata": {}
        }
      ]
    }
  ]
}