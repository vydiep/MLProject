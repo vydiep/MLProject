{
  "nbformat": 4,
  "nbformat_minor": 0,
  "metadata": {
    "colab": {
      "provenance": [],
      "authorship_tag": "ABX9TyPFAWqb7hZ+xFoR9GSrah08",
      "include_colab_link": true
    },
    "kernelspec": {
      "name": "python3",
      "display_name": "Python 3"
    },
    "language_info": {
      "name": "python"
    }
  },
  "cells": [
    {
      "cell_type": "markdown",
      "metadata": {
        "id": "view-in-github",
        "colab_type": "text"
      },
      "source": [
        "<a href=\"https://colab.research.google.com/github/vydiep/MLProject/blob/main/move_rename_files.ipynb\" target=\"_parent\"><img src=\"https://colab.research.google.com/assets/colab-badge.svg\" alt=\"Open In Colab\"/></a>"
      ]
    },
    {
      "cell_type": "code",
      "execution_count": 1,
      "metadata": {
        "colab": {
          "base_uri": "https://localhost:8080/"
        },
        "id": "kAk3f7G8TN00",
        "outputId": "be26513b-9dcd-46ca-f3ef-d8b13ee8b1ff"
      },
      "outputs": [
        {
          "output_type": "stream",
          "name": "stdout",
          "text": [
            "Mounted at /content/drive\n"
          ]
        }
      ],
      "source": [
        "from google.colab import drive\n",
        "drive.mount('/content/drive')"
      ]
    },
    {
      "cell_type": "code",
      "source": [
        "import shutil\n",
        "import pandas as pd\n",
        "import os"
      ],
      "metadata": {
        "id": "1_draJiAVGzY"
      },
      "execution_count": 3,
      "outputs": []
    },
    {
      "cell_type": "markdown",
      "source": [
        "# Creating Folders"
      ],
      "metadata": {
        "id": "Zlh0MsI_cX4L"
      }
    },
    {
      "cell_type": "code",
      "source": [
        "def specific_composer_folder(composer_name, input_path, output_path):\n",
        "    # Read the dataset into a dataframe\n",
        "    df = pd.read_csv('/content/drive/Shareddrives/MLProject/MusicNet/musicnet_metadata.csv')\n",
        "\n",
        "    # Filter the dataframe to only include the specified composer\n",
        "    filtered_df = df[df['composer'] == composer_name]\n",
        "\n",
        "    # Iterate through the rows in the dataframe and move the files if the id matches\n",
        "    for index, row in filtered_df.iterrows():\n",
        "        # Get the old and new filenames\n",
        "        old_filename = os.path.join(input_path, str(row['id']) + '.wav')\n",
        "        new_filename = os.path.join(output_path, str(row['composer']), str(row['id']) + '.wav')\n",
        "\n",
        "        # Check if the file exists and move it to the new directory if it does\n",
        "        if os.path.isfile(old_filename):\n",
        "            os.makedirs(os.path.join(output_path, str(row['composer'])), exist_ok=True)\n",
        "            shutil.move(old_filename, new_filename)"
      ],
      "metadata": {
        "id": "uQ9xpHDWU3pk"
      },
      "execution_count": 14,
      "outputs": []
    },
    {
      "cell_type": "code",
      "source": [
        "input_path = '/content/drive/Shareddrives/MLProject/MusicNet/musicnet/musicnet/train_data'\n",
        "output_path = '/content/drive/Shareddrives/MLProject/MusicNet/data'\n",
        "composer_name = 'Beethoven'"
      ],
      "metadata": {
        "id": "-uL46H9PWPFf"
      },
      "execution_count": 10,
      "outputs": []
    },
    {
      "cell_type": "code",
      "source": [
        "input_path = '/content/drive/Shareddrives/MLProject/MusicNet/musicnet/musicnet/test_data'\n",
        "output_path = '/content/drive/Shareddrives/MLProject/MusicNet/data'\n",
        "composer_name = 'Beethoven'"
      ],
      "metadata": {
        "id": "8bZykRL9bP7-"
      },
      "execution_count": 15,
      "outputs": []
    },
    {
      "cell_type": "code",
      "source": [
        "specific_composer_folder(composer_name, input_path, output_path)"
      ],
      "metadata": {
        "id": "IMwSO64SWR2E"
      },
      "execution_count": 16,
      "outputs": []
    },
    {
      "cell_type": "code",
      "source": [
        "def other_composers_folder(source_folder, destination_folder, excluded_folder=None):\n",
        "    # Create the destination folder if it doesn't exist\n",
        "    if not os.path.exists(destination_folder):\n",
        "        os.makedirs(destination_folder)\n",
        "\n",
        "    # Iterate through all the files in the source folder and move them to the destination folder\n",
        "    for root, dirs, files in os.walk(source_folder):\n",
        "        # exclude the excluded folder\n",
        "        if excluded_folder and os.path.commonprefix([root, excluded_folder]) == excluded_folder:\n",
        "            continue\n",
        "        for file in files:\n",
        "            # move the file to the destination folder\n",
        "            shutil.move(os.path.join(root, file), os.path.join(destination_folder, file))"
      ],
      "metadata": {
        "id": "Yk9t0GRsVQjj"
      },
      "execution_count": 19,
      "outputs": []
    },
    {
      "cell_type": "code",
      "source": [
        "source_folder = '/content/drive/Shareddrives/MLProject/MusicNet/musicnet/musicnet/train_data'\n",
        "destination_folder = '/content/drive/Shareddrives/MLProject/MusicNet/data/Other'\n",
        "excluded_folder = '/content/drive/Shareddrives/MLProject/MusicNet/data/Beethoven'"
      ],
      "metadata": {
        "id": "AhWP17nMbmy_"
      },
      "execution_count": 20,
      "outputs": []
    },
    {
      "cell_type": "code",
      "source": [
        "source_folder = '/content/drive/Shareddrives/MLProject/MusicNet/musicnet/musicnet/test_data'\n",
        "destination_folder = '/content/drive/Shareddrives/MLProject/MusicNet/data/Other'\n",
        "excluded_folder = '/content/drive/Shareddrives/MLProject/MusicNet/data/Beethoven'"
      ],
      "metadata": {
        "id": "grKlNa2Bb8wz"
      },
      "execution_count": 22,
      "outputs": []
    },
    {
      "cell_type": "code",
      "source": [
        "other_composers_folder(source_folder, destination_folder, excluded_folder)"
      ],
      "metadata": {
        "id": "uYM1AXxnb1No"
      },
      "execution_count": 23,
      "outputs": []
    },
    {
      "cell_type": "markdown",
      "source": [
        "# Renaming Files"
      ],
      "metadata": {
        "id": "u2lJA7IjVCyg"
      }
    },
    {
      "cell_type": "code",
      "source": [
        "def rename_files(folder_path, prefix):\n",
        "    # Iterate over the files in the folder\n",
        "    for filename in os.listdir(folder_path):\n",
        "        # Create the old and new file paths\n",
        "        old_path = os.path.join(folder_path, filename)\n",
        "        new_filename = prefix + filename\n",
        "        new_path = os.path.join(folder_path, new_filename)\n",
        "        # Rename the file by moving it to a new path\n",
        "        os.rename(old_path, new_path)"
      ],
      "metadata": {
        "id": "Hg_2SwxYUyOM"
      },
      "execution_count": 24,
      "outputs": []
    },
    {
      "cell_type": "code",
      "source": [
        "folder_path = '/content/drive/Shareddrives/MLProject/MusicNet/data/Beethoven'\n",
        "rename_files(folder_path, 'Beethoven_')"
      ],
      "metadata": {
        "id": "0sBpbt5-VjJx"
      },
      "execution_count": 25,
      "outputs": []
    },
    {
      "cell_type": "code",
      "source": [
        "folder_path = '/content/drive/Shareddrives/MLProject/MusicNet/data/Other'\n",
        "rename_files(folder_path, 'Other_')"
      ],
      "metadata": {
        "id": "3Y6COmQJcFrU"
      },
      "execution_count": 26,
      "outputs": []
    }
  ]
}